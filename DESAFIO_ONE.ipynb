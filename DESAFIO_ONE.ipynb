{
  "nbformat": 4,
  "nbformat_minor": 0,
  "metadata": {
    "colab": {
      "provenance": []
    },
    "kernelspec": {
      "name": "python3",
      "display_name": "Python 3"
    },
    "language_info": {
      "name": "python"
    }
  },
  "cells": [
    {
      "cell_type": "code",
      "execution_count": 25,
      "metadata": {
        "id": "dNRVeDzrLjg9"
      },
      "outputs": [],
      "source": [
        "import pandas as pd\n",
        "import matplotlib.pyplot as plt\n",
        "\n",
        "url = \"https://raw.githubusercontent.com/alura-es-cursos/challenge1-data-science/refs/heads/main/base-de-dados-challenge-1/loja_1.csv\"\n",
        "url2 = \"https://raw.githubusercontent.com/alura-es-cursos/challenge1-data-science/refs/heads/main/base-de-dados-challenge-1/loja_2.csv\"\n",
        "url3 = \"https://raw.githubusercontent.com/alura-es-cursos/challenge1-data-science/refs/heads/main/base-de-dados-challenge-1/loja_3.csv\"\n",
        "url4 = \"https://raw.githubusercontent.com/alura-es-cursos/challenge1-data-science/refs/heads/main/base-de-dados-challenge-1/loja_4.csv\"\n",
        "\n",
        "lojas = {\n",
        "    'loja': pd.read_csv(url),\n",
        "    'loja2': pd.read_csv(url2),\n",
        "    'loja3': pd.read_csv(url3),\n",
        "    'loja4': pd.read_csv(url4),\n",
        "}"
      ]
    },
    {
      "cell_type": "code",
      "source": [
        "#Resumo indicadores\n",
        "resumo = []\n",
        "\n",
        "for nome, df in lojas.items():\n",
        "    faturamento = df['Preço'].sum()\n",
        "    avaliacao = df['Avaliação da compra'].mean()\n",
        "    frete = df['Frete'].mean()\n",
        "    produto_mais_vendido = df['Produto'].mode()[0]\n",
        "    categoria_mais_vendida = df['Categoria do Produto'].mode()[0]\n",
        "\n",
        "    resumo.append({\n",
        "        'Loja': nome,\n",
        "        'Faturamento': faturamento,\n",
        "        'Avaliação Média': avaliacao,\n",
        "        'Frete Médio': frete,\n",
        "        'Produto Mais Vendido': produto_mais_vendido,\n",
        "        'Categoria Mais Vendida': categoria_mais_vendida\n",
        "    })\n",
        "\n",
        "resumo_df = pd.DataFrame(resumo)\n",
        "\n",
        "\n",
        "print(\"\\nResumo das Lojas:\")\n",
        "print(resumo_df)\n",
        "\n"
      ],
      "metadata": {
        "id": "BEHvKwBnRQ_G",
        "colab": {
          "base_uri": "https://localhost:8080/"
        },
        "outputId": "dc4831a2-90c3-4e47-a43c-c7db2d292f9f"
      },
      "execution_count": 26,
      "outputs": [
        {
          "output_type": "stream",
          "name": "stdout",
          "text": [
            "\n",
            "Resumo das Lojas:\n",
            "    Loja  Faturamento  Avaliação Média  Frete Médio      Produto Mais Vendido  \\\n",
            "0   loja   1534509.12         3.976685    34.691805             Guarda roupas   \n",
            "1  loja2   1488459.06         4.037304    33.621941  Iniciando em programação   \n",
            "2  loja3   1464025.03         4.048326    33.074464             Kit banquetas   \n",
            "3  loja4   1384497.58         3.995759    31.278997                  Cama box   \n",
            "\n",
            "  Categoria Mais Vendida  \n",
            "0                 moveis  \n",
            "1                 moveis  \n",
            "2                 moveis  \n",
            "3                 moveis  \n"
          ]
        }
      ]
    },
    {
      "cell_type": "markdown",
      "source": [
        "1. Análises com gráficos"
      ],
      "metadata": {
        "id": "Mi5ONjBuNG7I"
      }
    },
    {
      "cell_type": "code",
      "source": [
        "# GRÁFICO: Faturamento por Loja\n",
        "plt.figure(figsize=(8,5))\n",
        "plt.bar(resumo_df['Loja'], resumo_df['Faturamento'], color='lightblue')\n",
        "plt.title('Faturamento por Loja')\n",
        "plt.ylabel('R$')\n",
        "plt.grid(True, axis='y')\n",
        "plt.show()\n",
        "\n",
        "# GRÁFICO: Avaliação Média\n",
        "plt.figure(figsize=(8,5))\n",
        "plt.bar(resumo_df['Loja'], resumo_df['Avaliação Média'], color='orange')\n",
        "plt.title('Avaliação Média por Loja')\n",
        "plt.ylim(0, 5)\n",
        "plt.grid(True, axis='y')\n",
        "plt.show()\n",
        "\n",
        "# GRÁFICO: Frete Médio\n",
        "plt.figure(figsize=(8,5))\n",
        "plt.bar(resumo_df['Loja'], resumo_df['Frete Médio'], color='green')\n",
        "plt.title('Frete Médio por Loja')\n",
        "plt.ylabel('R$')\n",
        "plt.grid(True, axis='y')\n",
        "plt.show()\n"
      ],
      "metadata": {
        "id": "u6XLY94pS5xb"
      },
      "execution_count": null,
      "outputs": []
    },
    {
      "cell_type": "code",
      "source": [
        "\n",
        "# Proporção do Frete Médio\n",
        "plt.figure(figsize=(6,6))\n",
        "plt.pie(resumo_df['Frete Médio'], labels=resumo_df['Loja'], autopct='%1.1f%%', startangle=90, colors=plt.cm.Set3.colors)\n",
        "plt.title('Proporção do Frete Médio por Loja')\n",
        "plt.tight_layout()\n",
        "plt.show()\n",
        "\n",
        "# Avaliação Média das Lojas\n",
        "plt.figure(figsize=(8,5))\n",
        "plt.plot(resumo_df['Loja'], resumo_df['Avaliação Média'], marker='o', linestyle='-', color='darkorange')\n",
        "plt.title('Avaliação Média dos Clientes')\n",
        "plt.ylabel('Nota de 1 a 5')\n",
        "plt.ylim(0, 5)\n",
        "plt.grid(True, linestyle='--', alpha=0.5)\n",
        "plt.tight_layout()\n",
        "plt.show()"
      ],
      "metadata": {
        "id": "Uwiz-8fKV3ky"
      },
      "execution_count": null,
      "outputs": []
    },
    {
      "cell_type": "markdown",
      "source": [
        "**RELATÓRIO**"
      ],
      "metadata": {
        "id": "ysmzIC2RNmRf"
      }
    },
    {
      "cell_type": "markdown",
      "source": [
        "\n",
        "Para avaliar a performance de cada loja, analisamos três indicadores principais: Faturamento Total, Avaliação Média dos Clientes, Frete Médio. Além disso, identificamos os produtos e categorias mais vendidos, que indicam o posicionamento de mercado e o perfil dos clientes de cada loja.\n",
        "\n",
        "Analisando o gráfico de Faturamento por Loja, notamos que as Lojas 1 e 2 tiveram os maiores faturamentos, enquanto a Loja 4 foi a que menos faturou com faturamento de 1.384.497,58 reais. No gráfio de Avaliação Média, A Loja 1 e Loja 2 obtiveram as melhores notas médias, superiores a 4.0, enquanto a Loja 4 apresentou a segunda pior avaliação, com nota de 3,99 — o que indica baixa satisfação dos clientes. E por último, no gráfico de Frete Médio por Loja, a análise proporcional dos fretes revela que a Loja 4 possui o menor custo de frete médio (31,27), o que poderia ser um fator positivo, mas considerando que a loja tem um menor faturamento e avaliação, pode-se dizer que ela deixa de faturar no valor de frete, considerando o cenário das outras empresas.\n",
        "\n",
        "Logo, o Senhor João deve considerar vender a Loja 4, pois ela apresenta mais pontos negativos: Menor valor de faturamento, a segunda pior avaliação e menor faturamento na entrega dos produtos, visto que o valor de frete é menor dentre as 4 lojas citadas.\n",
        "      \n"
      ],
      "metadata": {
        "id": "roysXJLlbQql"
      }
    },
    {
      "cell_type": "code",
      "source": [],
      "metadata": {
        "id": "qxIK52oXbQgm"
      },
      "execution_count": null,
      "outputs": []
    }
  ]
}